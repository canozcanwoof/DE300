{
 "cells": [
  {
   "cell_type": "code",
   "execution_count": 1,
   "id": "0fd13aa9-9084-400e-a898-66e4609ca37c",
   "metadata": {},
   "outputs": [],
   "source": [
    "import numpy as np\n",
    "import pandas as pd\n",
    "from sklearn.model_selection import train_test_split\n",
    "import sqlite3"
   ]
  },
  {
   "cell_type": "code",
   "execution_count": 2,
   "id": "b4118b25-036f-4160-ae8f-a192717d4daf",
   "metadata": {},
   "outputs": [],
   "source": [
    "# Load data into a dataframe\n",
    "conn = sqlite3.connect('original_heart_database.db')\n",
    "query = \"SELECT * FROM cut_heart_disease;\"\n",
    "data = pd.read_sql_query(query, conn)\n",
    "conn.close()"
   ]
  },
  {
   "cell_type": "code",
   "execution_count": 3,
   "id": "6b8cd75f-2f0d-44e9-922d-40ad0b2bf35a",
   "metadata": {},
   "outputs": [
    {
     "name": "stdout",
     "output_type": "stream",
     "text": [
      "0\n"
     ]
    }
   ],
   "source": [
    "nan_painloc_ratio = data.isna().sum() / len(data)\n",
    "num_rows_all_nan = data.isna().all(axis=1).sum()\n",
    "print(num_rows_all_nan)"
   ]
  },
  {
   "cell_type": "code",
   "execution_count": 4,
   "id": "ba07571b-1984-43c0-8d5d-414cca4a69bd",
   "metadata": {},
   "outputs": [],
   "source": [
    "X = data.drop(columns=['target'])\n",
    "y = data['target']"
   ]
  },
  {
   "cell_type": "code",
   "execution_count": 5,
   "id": "9a61ad2e-a43a-4521-9f63-516bc17fbeca",
   "metadata": {},
   "outputs": [],
   "source": [
    "X_train, X_test, y_train, y_test = train_test_split(X, y, test_size=0.1, stratify=y)"
   ]
  },
  {
   "cell_type": "code",
   "execution_count": 6,
   "id": "860a63a0-ccbc-4768-a885-c8fa8359c9b5",
   "metadata": {},
   "outputs": [],
   "source": [
    "from sklearn.linear_model import LogisticRegression\n",
    "from sklearn.tree import DecisionTreeClassifier\n",
    "from sklearn.ensemble import RandomForestClassifier\n",
    "from sklearn.svm import SVC\n",
    "from sklearn.model_selection import cross_val_score\n",
    "from sklearn.metrics import accuracy_score"
   ]
  },
  {
   "cell_type": "code",
   "execution_count": 7,
   "id": "43546b6c-727a-430e-b49a-54720e975b50",
   "metadata": {},
   "outputs": [],
   "source": [
    "classifiers = {\n",
    "    'Logistic Regression': LogisticRegression(),\n",
    "    'Decision Tree': DecisionTreeClassifier(),\n",
    "    'Random Forest': RandomForestClassifier(),\n",
    "    'SVM': SVC()\n",
    "}"
   ]
  },
  {
   "cell_type": "code",
   "execution_count": 8,
   "id": "16b5ab92-a455-4ef3-b5d8-ec3ea9eced39",
   "metadata": {},
   "outputs": [
    {
     "name": "stderr",
     "output_type": "stream",
     "text": [
      "/home/ubuntu/anaconda3/lib/python3.11/site-packages/sklearn/linear_model/_logistic.py:458: ConvergenceWarning: lbfgs failed to converge (status=1):\n",
      "STOP: TOTAL NO. of ITERATIONS REACHED LIMIT.\n",
      "\n",
      "Increase the number of iterations (max_iter) or scale the data as shown in:\n",
      "    https://scikit-learn.org/stable/modules/preprocessing.html\n",
      "Please also refer to the documentation for alternative solver options:\n",
      "    https://scikit-learn.org/stable/modules/linear_model.html#logistic-regression\n",
      "  n_iter_i = _check_optimize_result(\n",
      "/home/ubuntu/anaconda3/lib/python3.11/site-packages/sklearn/linear_model/_logistic.py:458: ConvergenceWarning: lbfgs failed to converge (status=1):\n",
      "STOP: TOTAL NO. of ITERATIONS REACHED LIMIT.\n",
      "\n",
      "Increase the number of iterations (max_iter) or scale the data as shown in:\n",
      "    https://scikit-learn.org/stable/modules/preprocessing.html\n",
      "Please also refer to the documentation for alternative solver options:\n",
      "    https://scikit-learn.org/stable/modules/linear_model.html#logistic-regression\n",
      "  n_iter_i = _check_optimize_result(\n",
      "/home/ubuntu/anaconda3/lib/python3.11/site-packages/sklearn/linear_model/_logistic.py:458: ConvergenceWarning: lbfgs failed to converge (status=1):\n",
      "STOP: TOTAL NO. of ITERATIONS REACHED LIMIT.\n",
      "\n",
      "Increase the number of iterations (max_iter) or scale the data as shown in:\n",
      "    https://scikit-learn.org/stable/modules/preprocessing.html\n",
      "Please also refer to the documentation for alternative solver options:\n",
      "    https://scikit-learn.org/stable/modules/linear_model.html#logistic-regression\n",
      "  n_iter_i = _check_optimize_result(\n",
      "/home/ubuntu/anaconda3/lib/python3.11/site-packages/sklearn/linear_model/_logistic.py:458: ConvergenceWarning: lbfgs failed to converge (status=1):\n",
      "STOP: TOTAL NO. of ITERATIONS REACHED LIMIT.\n",
      "\n",
      "Increase the number of iterations (max_iter) or scale the data as shown in:\n",
      "    https://scikit-learn.org/stable/modules/preprocessing.html\n",
      "Please also refer to the documentation for alternative solver options:\n",
      "    https://scikit-learn.org/stable/modules/linear_model.html#logistic-regression\n",
      "  n_iter_i = _check_optimize_result(\n",
      "/home/ubuntu/anaconda3/lib/python3.11/site-packages/sklearn/linear_model/_logistic.py:458: ConvergenceWarning: lbfgs failed to converge (status=1):\n",
      "STOP: TOTAL NO. of ITERATIONS REACHED LIMIT.\n",
      "\n",
      "Increase the number of iterations (max_iter) or scale the data as shown in:\n",
      "    https://scikit-learn.org/stable/modules/preprocessing.html\n",
      "Please also refer to the documentation for alternative solver options:\n",
      "    https://scikit-learn.org/stable/modules/linear_model.html#logistic-regression\n",
      "  n_iter_i = _check_optimize_result(\n",
      "/home/ubuntu/anaconda3/lib/python3.11/site-packages/sklearn/linear_model/_logistic.py:458: ConvergenceWarning: lbfgs failed to converge (status=1):\n",
      "STOP: TOTAL NO. of ITERATIONS REACHED LIMIT.\n",
      "\n",
      "Increase the number of iterations (max_iter) or scale the data as shown in:\n",
      "    https://scikit-learn.org/stable/modules/preprocessing.html\n",
      "Please also refer to the documentation for alternative solver options:\n",
      "    https://scikit-learn.org/stable/modules/linear_model.html#logistic-regression\n",
      "  n_iter_i = _check_optimize_result(\n"
     ]
    },
    {
     "name": "stdout",
     "output_type": "stream",
     "text": [
      "Logistic Regression:\n",
      "Test set accuracy:  0.7888888888888889\n",
      "Cross-validation scores:  [0.77160494 0.80246914 0.82716049 0.82098765 0.7515528 ]\n",
      "Mean CV score:  0.7947550034506556\n",
      "Standard deviation of CV scores: 0.02898320874676442\n",
      "\n",
      "Decision Tree:\n",
      "Test set accuracy:  0.7111111111111111\n",
      "Cross-validation scores:  [0.68518519 0.72222222 0.70987654 0.74074074 0.66459627]\n",
      "Mean CV score:  0.70452419292999\n",
      "Standard deviation of CV scores: 0.026913722213224456\n",
      "\n",
      "Random Forest:\n",
      "Test set accuracy:  0.8\n",
      "Cross-validation scores:  [0.77777778 0.7962963  0.7962963  0.83950617 0.7515528 ]\n",
      "Mean CV score:  0.7922858676481865\n",
      "Standard deviation of CV scores: 0.028745755077105972\n",
      "\n",
      "SVM:\n",
      "Test set accuracy:  0.6888888888888889\n",
      "Cross-validation scores:  [0.65432099 0.72839506 0.68518519 0.72839506 0.65838509]\n",
      "Mean CV score:  0.6909362778927997\n",
      "Standard deviation of CV scores: 0.03237176283884081\n",
      "\n"
     ]
    }
   ],
   "source": [
    "for name, clf in classifiers.items():\n",
    "  # Model training\n",
    "  clf.fit(X_train, y_train)\n",
    "\n",
    "  y_pred = clf.predict(X_test)\n",
    "  test_accuracy = accuracy_score(y_test, y_pred)\n",
    "\n",
    "  # Model evaluation using 5-fold cross validation\n",
    "  scores = cross_val_score(clf, X_train, y_train) # Default value of cv is 5 meaning 5-fold cross val\n",
    "\n",
    "  print(f\"{name}:\")\n",
    "  print(\"Test set accuracy: \", test_accuracy)\n",
    "  print(\"Cross-validation scores: \", scores)\n",
    "  print(\"Mean CV score: \", scores.mean())\n",
    "  print(\"Standard deviation of CV scores:\", scores.std())\n",
    "  print()"
   ]
  },
  {
   "cell_type": "code",
   "execution_count": null,
   "id": "6efd0c56-24c6-4dbe-8b2f-5332d7ac5324",
   "metadata": {},
   "outputs": [],
   "source": [
    "## Given the combination of both high consistency and high accuracy, Random Forest and Logistic Regression are the strongest candidates. However, Random Forest edges out slightly with a higher test set accuracy, indicating it may generalize slightly better to unseen data compared to Logistic Regression."
   ]
  }
 ],
 "metadata": {
  "kernelspec": {
   "display_name": "Python 3 (ipykernel)",
   "language": "python",
   "name": "python3"
  },
  "language_info": {
   "codemirror_mode": {
    "name": "ipython",
    "version": 3
   },
   "file_extension": ".py",
   "mimetype": "text/x-python",
   "name": "python",
   "nbconvert_exporter": "python",
   "pygments_lexer": "ipython3",
   "version": "3.11.7"
  }
 },
 "nbformat": 4,
 "nbformat_minor": 5
}
