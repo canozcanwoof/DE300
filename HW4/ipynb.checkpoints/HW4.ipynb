{
  "nbformat": 4,
  "nbformat_minor": 0,
  "metadata": {
    "colab": {
      "provenance": []
    },
    "kernelspec": {
      "name": "python3",
      "display_name": "Python 3"
    },
    "language_info": {
      "name": "python"
    }
  },
  "cells": [
    {
      "cell_type": "code",
      "execution_count": 49,
      "metadata": {
        "id": "O1z-PxaJ6DNS"
      },
      "outputs": [],
      "source": [
        "import numpy as np\n",
        "import pandas as pd\n",
        "from sklearn.model_selection import train_test_split\n",
        "from sqlalchemy import create_engine\n",
        "from sklearn.linear_model import LogisticRegression\n",
        "from sklearn.svm import SVC\n",
        "from sklearn.metrics import accuracy_score"
      ]
    },
    {
      "cell_type": "code",
      "source": [
        "import sqlite3"
      ],
      "metadata": {
        "id": "X5c3auz3Da15"
      },
      "execution_count": 50,
      "outputs": []
    },
    {
      "cell_type": "code",
      "source": [
        "# Load data into a dataframe\n",
        "conn = sqlite3.connect('original_heart_database.db')\n",
        "query = \"SELECT * FROM cut_heart_disease;\"\n",
        "df = pd.read_sql_query(query, conn)\n",
        "conn.close()"
      ],
      "metadata": {
        "id": "LoQGQ0x5EqXN"
      },
      "execution_count": 51,
      "outputs": []
    },
    {
      "cell_type": "code",
      "source": [
        "string_columns = [v for v in df.select_dtypes(exclude=['float64', 'int64']).columns if v != 'target']\n",
        "df = df.drop(string_columns, axis=1)\n",
        "\n",
        "Y = df['target']\n",
        "X = df.drop('target', axis=1)"
      ],
      "metadata": {
        "id": "CCXzTh_RI2Sl"
      },
      "execution_count": 52,
      "outputs": []
    },
    {
      "cell_type": "code",
      "source": [
        "X_train, X_val, y_train, y_val = train_test_split(X, Y, test_size=0.1, random_state=42)"
      ],
      "metadata": {
        "id": "bu4361loJRwH"
      },
      "execution_count": 53,
      "outputs": []
    },
    {
      "cell_type": "code",
      "source": [
        "def train_logistic_regression(X_train, y_train, X_val, y_val):\n",
        "    # Create an instance of Logistic Regression model\n",
        "    lr_model = LogisticRegression()\n",
        "\n",
        "    # Train the model\n",
        "    lr_model.fit(X_train, y_train)\n",
        "\n",
        "    # Make predictions on the validation set\n",
        "    y_pred = lr_model.predict(X_val)\n",
        "\n",
        "    # Calculate the accuracy of the model\n",
        "    accuracy = accuracy_score(y_val, y_pred)\n",
        "\n",
        "    # Perform cross-validation\n",
        "    cv_scores = cross_val_score(lr_model, X, Y, cv=5)\n",
        "\n",
        "    return accuracy, cv_scores\n",
        "\n",
        "def train_svm(X_train, y_train, X_val, y_val):\n",
        "    # Create an instance of SVM model\n",
        "    svm_model = SVC(kernel='linear')\n",
        "\n",
        "    # Train the model\n",
        "    svm_model.fit(X_train, y_train)\n",
        "\n",
        "    # Make predictions on the validation set\n",
        "    y_pred = svm_model.predict(X_val)\n",
        "\n",
        "    # Calculate the accuracy of the model\n",
        "    accuracy = accuracy_score(y_val, y_pred)\n",
        "\n",
        "    # Perform cross-validation\n",
        "    cv_scores = cross_val_score(svm_model, X, Y, cv=5)\n",
        "\n",
        "    return accuracy, cv_scores\n",
        "\n",
        "# Train and evaluate the models\n",
        "lr_accuracy, lr_cv_scores = train_logistic_regression(X_train, y_train, X_val, y_val)\n",
        "svm_accuracy, svm_cv_scores = train_svm(X_train, y_train, X_val, y_val)\n",
        "\n",
        "# Calculate mean and standard deviation of cross-validation scores\n",
        "lr_mean_cv_score = np.mean(lr_cv_scores)\n",
        "lr_std_cv_score = np.std(lr_cv_scores)\n",
        "\n",
        "svm_mean_cv_score = np.mean(svm_cv_scores)\n",
        "svm_std_cv_score = np.std(svm_cv_scores)\n",
        "\n",
        "# Model performance summary\n",
        "model_performance = pd.DataFrame({\n",
        "    'Model': ['Logistic Regression', 'SVM'],\n",
        "    'Test Accuracy': [lr_accuracy, svm_accuracy],\n",
        "    'CV Scores': [lr_cv_scores, svm_cv_scores],\n",
        "    'Mean CV Score': [lr_mean_cv_score, lr_std_cv_score],\n",
        "    'Standard Deviation CV Score': [lr_std_cv_score, svm_std_cv_score]\n",
        "})\n",
        "\n",
        "# Determine the best model based on mean CV score\n",
        "best_model_idx = model_performance['Mean CV Score'].idxmax()\n",
        "best_model = model_performance.loc[best_model_idx]\n",
        "\n",
        "# Print model performance summary\n",
        "print(\"Model Performance:\")\n",
        "print(model_performance)\n",
        "\n",
        "print(\"\\nBest Model:\")\n",
        "print(f\"The best model is {best_model['Model']} with a test set accuracy of {best_model['Test Accuracy']} \"\n",
        "      f\"and a mean cross-validation score of {best_model['Mean CV Score']}. \"\n",
        "      f\"The model was decided based on the highest accuracy and the highest mean cv score between SVM and LR. The higher these values are, the better the model applies to unseen data\")"
      ],
      "metadata": {
        "id": "WaGJrPSCc767",
        "colab": {
          "base_uri": "https://localhost:8080/"
        },
        "outputId": "1fba6a0e-a5fd-416f-9d35-843ed8d2040c"
      },
      "execution_count": 54,
      "outputs": [
        {
          "output_type": "stream",
          "name": "stderr",
          "text": [
            "/usr/local/lib/python3.10/dist-packages/sklearn/linear_model/_logistic.py:458: ConvergenceWarning: lbfgs failed to converge (status=1):\n",
            "STOP: TOTAL NO. of ITERATIONS REACHED LIMIT.\n",
            "\n",
            "Increase the number of iterations (max_iter) or scale the data as shown in:\n",
            "    https://scikit-learn.org/stable/modules/preprocessing.html\n",
            "Please also refer to the documentation for alternative solver options:\n",
            "    https://scikit-learn.org/stable/modules/linear_model.html#logistic-regression\n",
            "  n_iter_i = _check_optimize_result(\n",
            "/usr/local/lib/python3.10/dist-packages/sklearn/linear_model/_logistic.py:458: ConvergenceWarning: lbfgs failed to converge (status=1):\n",
            "STOP: TOTAL NO. of ITERATIONS REACHED LIMIT.\n",
            "\n",
            "Increase the number of iterations (max_iter) or scale the data as shown in:\n",
            "    https://scikit-learn.org/stable/modules/preprocessing.html\n",
            "Please also refer to the documentation for alternative solver options:\n",
            "    https://scikit-learn.org/stable/modules/linear_model.html#logistic-regression\n",
            "  n_iter_i = _check_optimize_result(\n",
            "/usr/local/lib/python3.10/dist-packages/sklearn/linear_model/_logistic.py:458: ConvergenceWarning: lbfgs failed to converge (status=1):\n",
            "STOP: TOTAL NO. of ITERATIONS REACHED LIMIT.\n",
            "\n",
            "Increase the number of iterations (max_iter) or scale the data as shown in:\n",
            "    https://scikit-learn.org/stable/modules/preprocessing.html\n",
            "Please also refer to the documentation for alternative solver options:\n",
            "    https://scikit-learn.org/stable/modules/linear_model.html#logistic-regression\n",
            "  n_iter_i = _check_optimize_result(\n",
            "/usr/local/lib/python3.10/dist-packages/sklearn/linear_model/_logistic.py:458: ConvergenceWarning: lbfgs failed to converge (status=1):\n",
            "STOP: TOTAL NO. of ITERATIONS REACHED LIMIT.\n",
            "\n",
            "Increase the number of iterations (max_iter) or scale the data as shown in:\n",
            "    https://scikit-learn.org/stable/modules/preprocessing.html\n",
            "Please also refer to the documentation for alternative solver options:\n",
            "    https://scikit-learn.org/stable/modules/linear_model.html#logistic-regression\n",
            "  n_iter_i = _check_optimize_result(\n",
            "/usr/local/lib/python3.10/dist-packages/sklearn/linear_model/_logistic.py:458: ConvergenceWarning: lbfgs failed to converge (status=1):\n",
            "STOP: TOTAL NO. of ITERATIONS REACHED LIMIT.\n",
            "\n",
            "Increase the number of iterations (max_iter) or scale the data as shown in:\n",
            "    https://scikit-learn.org/stable/modules/preprocessing.html\n",
            "Please also refer to the documentation for alternative solver options:\n",
            "    https://scikit-learn.org/stable/modules/linear_model.html#logistic-regression\n",
            "  n_iter_i = _check_optimize_result(\n",
            "/usr/local/lib/python3.10/dist-packages/sklearn/linear_model/_logistic.py:458: ConvergenceWarning: lbfgs failed to converge (status=1):\n",
            "STOP: TOTAL NO. of ITERATIONS REACHED LIMIT.\n",
            "\n",
            "Increase the number of iterations (max_iter) or scale the data as shown in:\n",
            "    https://scikit-learn.org/stable/modules/preprocessing.html\n",
            "Please also refer to the documentation for alternative solver options:\n",
            "    https://scikit-learn.org/stable/modules/linear_model.html#logistic-regression\n",
            "  n_iter_i = _check_optimize_result(\n"
          ]
        },
        {
          "output_type": "stream",
          "name": "stdout",
          "text": [
            "Model Performance:\n",
            "                 Model  Test Accuracy  \\\n",
            "0  Logistic Regression       0.788889   \n",
            "1                  SVM       0.755556   \n",
            "\n",
            "                                           CV Scores  Mean CV Score  \\\n",
            "0  [0.7611111111111111, 0.7833333333333333, 0.744...       0.778659   \n",
            "1  [0.7833333333333333, 0.7611111111111111, 0.755...       0.023528   \n",
            "\n",
            "   Standard Deviation CV Score  \n",
            "0                     0.023528  \n",
            "1                     0.022838  \n",
            "\n",
            "Best Model:\n",
            "The best model is Logistic Regression with a test set accuracy of 0.7888888888888889 and a mean cross-validation score of 0.7786592178770949. The model was decided based on the highest accuracy and the highest mean cv score between SVM and LR. The higher these values are, the better the model applies to unseen data\n"
          ]
        }
      ]
    }
  ]
}