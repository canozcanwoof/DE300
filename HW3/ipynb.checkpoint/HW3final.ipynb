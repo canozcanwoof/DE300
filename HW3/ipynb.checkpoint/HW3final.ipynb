{
  "nbformat": 4,
  "nbformat_minor": 0,
  "metadata": {
    "colab": {
      "provenance": []
    },
    "kernelspec": {
      "name": "python3",
      "display_name": "Python 3"
    },
    "language_info": {
      "name": "python"
    }
  },
  "cells": [
    {
      "cell_type": "code",
      "execution_count": 3,
      "metadata": {
        "colab": {
          "base_uri": "https://localhost:8080/",
          "height": 1000
        },
        "id": "Ct050bGUCduH",
        "outputId": "b03e0536-d757-4c8f-aa97-d67fa63a7a9e"
      },
      "outputs": [
        {
          "output_type": "stream",
          "name": "stderr",
          "text": [
            "/usr/local/lib/python3.10/dist-packages/sklearn/linear_model/_logistic.py:458: ConvergenceWarning: lbfgs failed to converge (status=1):\n",
            "STOP: TOTAL NO. of ITERATIONS REACHED LIMIT.\n",
            "\n",
            "Increase the number of iterations (max_iter) or scale the data as shown in:\n",
            "    https://scikit-learn.org/stable/modules/preprocessing.html\n",
            "Please also refer to the documentation for alternative solver options:\n",
            "    https://scikit-learn.org/stable/modules/linear_model.html#logistic-regression\n",
            "  n_iter_i = _check_optimize_result(\n",
            "/usr/local/lib/python3.10/dist-packages/sklearn/linear_model/_logistic.py:458: ConvergenceWarning: lbfgs failed to converge (status=1):\n",
            "STOP: TOTAL NO. of ITERATIONS REACHED LIMIT.\n",
            "\n",
            "Increase the number of iterations (max_iter) or scale the data as shown in:\n",
            "    https://scikit-learn.org/stable/modules/preprocessing.html\n",
            "Please also refer to the documentation for alternative solver options:\n",
            "    https://scikit-learn.org/stable/modules/linear_model.html#logistic-regression\n",
            "  n_iter_i = _check_optimize_result(\n",
            "/usr/local/lib/python3.10/dist-packages/sklearn/linear_model/_logistic.py:458: ConvergenceWarning: lbfgs failed to converge (status=1):\n",
            "STOP: TOTAL NO. of ITERATIONS REACHED LIMIT.\n",
            "\n",
            "Increase the number of iterations (max_iter) or scale the data as shown in:\n",
            "    https://scikit-learn.org/stable/modules/preprocessing.html\n",
            "Please also refer to the documentation for alternative solver options:\n",
            "    https://scikit-learn.org/stable/modules/linear_model.html#logistic-regression\n",
            "  n_iter_i = _check_optimize_result(\n",
            "/usr/local/lib/python3.10/dist-packages/sklearn/linear_model/_logistic.py:458: ConvergenceWarning: lbfgs failed to converge (status=1):\n",
            "STOP: TOTAL NO. of ITERATIONS REACHED LIMIT.\n",
            "\n",
            "Increase the number of iterations (max_iter) or scale the data as shown in:\n",
            "    https://scikit-learn.org/stable/modules/preprocessing.html\n",
            "Please also refer to the documentation for alternative solver options:\n",
            "    https://scikit-learn.org/stable/modules/linear_model.html#logistic-regression\n",
            "  n_iter_i = _check_optimize_result(\n",
            "/usr/local/lib/python3.10/dist-packages/sklearn/linear_model/_logistic.py:458: ConvergenceWarning: lbfgs failed to converge (status=1):\n",
            "STOP: TOTAL NO. of ITERATIONS REACHED LIMIT.\n",
            "\n",
            "Increase the number of iterations (max_iter) or scale the data as shown in:\n",
            "    https://scikit-learn.org/stable/modules/preprocessing.html\n",
            "Please also refer to the documentation for alternative solver options:\n",
            "    https://scikit-learn.org/stable/modules/linear_model.html#logistic-regression\n",
            "  n_iter_i = _check_optimize_result(\n",
            "/usr/local/lib/python3.10/dist-packages/sklearn/linear_model/_logistic.py:458: ConvergenceWarning: lbfgs failed to converge (status=1):\n",
            "STOP: TOTAL NO. of ITERATIONS REACHED LIMIT.\n",
            "\n",
            "Increase the number of iterations (max_iter) or scale the data as shown in:\n",
            "    https://scikit-learn.org/stable/modules/preprocessing.html\n",
            "Please also refer to the documentation for alternative solver options:\n",
            "    https://scikit-learn.org/stable/modules/linear_model.html#logistic-regression\n",
            "  n_iter_i = _check_optimize_result(\n"
          ]
        },
        {
          "output_type": "stream",
          "name": "stdout",
          "text": [
            "Model Performance:\n",
            "              Model  Test Accuracy                                                                                            CV Scores  Mean CV Score  Standard Deviation CV Score\n",
            "Logistic Regression       0.844444  [0.7962962962962963, 0.7654320987654321, 0.808641975308642, 0.8148148148148148, 0.7639751552795031]       0.789832                     0.021371\n",
            "      Decision Tree       0.722222 [0.7283950617283951, 0.6728395061728395, 0.6728395061728395, 0.6604938271604939, 0.6956521739130435]       0.686044                     0.024031\n",
            "      Random Forest       0.811111 [0.7839506172839507, 0.7592592592592593, 0.8148148148148148, 0.7962962962962963, 0.8074534161490683]       0.792355                     0.019565\n",
            "                SVM       0.711111  [0.7654320987654321, 0.6111111111111112, 0.6604938271604939, 0.691358024691358, 0.7204968944099379]       0.689778                     0.052375\n",
            "\n",
            "Best Model:\n",
            "The best model is Random Forest with a test set accuracy of 0.81 and a mean cross-validation score of 0.79. This model was selected based on the highest mean cross-validation score, indicating better generalization to unseen data.\n"
          ]
        },
        {
          "output_type": "execute_result",
          "data": {
            "text/plain": [
              "'model_performance_results.txt'"
            ],
            "application/vnd.google.colaboratory.intrinsic+json": {
              "type": "string"
            }
          },
          "metadata": {},
          "execution_count": 3
        }
      ],
      "source": [
        "import numpy as np\n",
        "import pandas as pd\n",
        "import sqlite3\n",
        "from sklearn.model_selection import train_test_split, cross_val_score\n",
        "from sklearn.linear_model import LogisticRegression\n",
        "from sklearn.tree import DecisionTreeClassifier\n",
        "from sklearn.ensemble import RandomForestClassifier\n",
        "from sklearn.svm import SVC\n",
        "from sklearn.metrics import accuracy_score\n",
        "\n",
        "# Load data into a dataframe\n",
        "conn = sqlite3.connect('original_heart_database.db')\n",
        "query = \"SELECT * FROM cut_heart_disease;\"\n",
        "data = pd.read_sql_query(query, conn)\n",
        "conn.close()\n",
        "\n",
        "# Split data into training and test sets\n",
        "X = data.drop(columns=['target'])\n",
        "y = data['target']\n",
        "X_train, X_test, y_train, y_test = train_test_split(X, y, test_size=0.1, stratify=y)\n",
        "\n",
        "# Initialize classifiers\n",
        "classifiers = {\n",
        "    'Logistic Regression': LogisticRegression(),\n",
        "    'Decision Tree': DecisionTreeClassifier(),\n",
        "    'Random Forest': RandomForestClassifier(),\n",
        "    'SVM': SVC()\n",
        "}\n",
        "\n",
        "# Dictionary to store results\n",
        "results = []\n",
        "\n",
        "# Training and evaluating models\n",
        "for name, clf in classifiers.items():\n",
        "    # Model training\n",
        "    clf.fit(X_train, y_train)\n",
        "    y_pred = clf.predict(X_test)\n",
        "    test_accuracy = accuracy_score(y_test, y_pred)\n",
        "\n",
        "    # Model evaluation using 5-fold cross-validation\n",
        "    scores = cross_val_score(clf, X_train, y_train)\n",
        "\n",
        "    # Collect results\n",
        "    result = {\n",
        "        \"Model\": name,\n",
        "        \"Test Accuracy\": test_accuracy,\n",
        "        \"CV Scores\": scores,\n",
        "        \"Mean CV Score\": scores.mean(),\n",
        "        \"Standard Deviation CV Score\": scores.std()\n",
        "    }\n",
        "    results.append(result)\n",
        "\n",
        "# Convert results to a DataFrame for better readability\n",
        "results_df = pd.DataFrame(results)\n",
        "\n",
        "# Determine the best model based on mean CV score\n",
        "best_model = results_df.loc[results_df['Mean CV Score'].idxmax()]\n",
        "\n",
        "# Adding explanation\n",
        "explanation = f\"The best model is {best_model['Model']} with a test set accuracy of {best_model['Test Accuracy']:.2f} and a mean cross-validation score of {best_model['Mean CV Score']:.2f}. This model was selected based on the highest mean cross-validation score, indicating better generalization to unseen data.\"\n",
        "\n",
        "# Print results in a cleaner format\n",
        "print(\"Model Performance:\")\n",
        "print(results_df.to_string(index=False))\n",
        "print(\"\\nBest Model:\")\n",
        "print(explanation)\n",
        "\n",
        "# Save results and explanation to a file\n",
        "output_file = \"model_performance_results.txt\"\n",
        "with open(output_file, 'w') as f:\n",
        "    f.write(\"Model Performance:\\n\")\n",
        "    f.write(results_df.to_string(index=False))\n",
        "    f.write(\"\\n\\nBest Model:\\n\")\n",
        "    f.write(explanation)\n",
        "\n",
        "\n",
        "# Display the file path for confirmation\n",
        "output_file\n",
        "\n"
      ]
    }
  ]
}